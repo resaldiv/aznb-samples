{
  "cells": [],
  "metadata": {
    "nteract": {
      "version": "nteract-front-end@1.0.0"
    }
  },
  "nbformat": 4,
  "nbformat_minor": 0
}